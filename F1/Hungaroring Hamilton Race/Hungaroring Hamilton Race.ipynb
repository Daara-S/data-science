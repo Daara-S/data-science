{
 "cells": [
  {
   "cell_type": "markdown",
   "id": "6aeafaa7",
   "metadata": {},
   "source": [
    "# Hungaroring Hamilton Race\n",
    "\n",
    "**Goal**  \n",
    "Explore Hamilton's grid position during 2021 Hungarian GP  \n",
    "\n",
    "**Background**  \n",
    "Traditionally, F1 races can be quite boring due to Lewis Hamilton's dominance. This season less thanks to Verstappen's increasing skill in the Red Bull car.  \n",
    "The Hungarian GP this year was especially exciting because of the poor pitstop strategy for Hamilton, putting him on the Hard tyres on lap 4 just after the crash and red flag. This lead to him having to fight his way back into the points, and a brilliant 16 laps stuck behind his former *teammate* from 2007, Alonso.\n",
    "\n",
    "**Dataset**  \n",
    "Our data comes from the Ergast Developer API which \"provides a historical record of motor racing data for non-commercial purposes\".  \n",
    "[Link to API](http://ergast.com/mrd/)"
   ]
  },
  {
   "cell_type": "code",
   "execution_count": 1,
   "id": "b82380eb",
   "metadata": {},
   "outputs": [],
   "source": [
    "import pandas as pd\n",
    "import matplotlib.pyplot as plt\n",
    "%matplotlib inline\n",
    "import requests"
   ]
  },
  {
   "cell_type": "markdown",
   "id": "be28096e",
   "metadata": {},
   "source": [
    "Import hamilton's Hungarian GP lap times"
   ]
  },
  {
   "cell_type": "code",
   "execution_count": 2,
   "id": "1fb6e66d",
   "metadata": {},
   "outputs": [],
   "source": [
    "url = 'https://ergast.com/api/f1/2021/11/drivers/hamilton/laps.json?limit=1000'\n",
    "\n",
    "r = requests.get(url)\n",
    "assert r.status_code == 200, 'Cannot connect to Ergast API'\n",
    "\n",
    "drivers = r.json()\n",
    "result = pd.DataFrame(drivers[\"MRData\"][\"RaceTable\"]['Races'][0]['Laps'])"
   ]
  },
  {
   "cell_type": "code",
   "execution_count": 3,
   "id": "87e69cd2",
   "metadata": {},
   "outputs": [
    {
     "data": {
      "text/html": [
       "<div>\n",
       "<style scoped>\n",
       "    .dataframe tbody tr th:only-of-type {\n",
       "        vertical-align: middle;\n",
       "    }\n",
       "\n",
       "    .dataframe tbody tr th {\n",
       "        vertical-align: top;\n",
       "    }\n",
       "\n",
       "    .dataframe thead th {\n",
       "        text-align: right;\n",
       "    }\n",
       "</style>\n",
       "<table border=\"1\" class=\"dataframe\">\n",
       "  <thead>\n",
       "    <tr style=\"text-align: right;\">\n",
       "      <th></th>\n",
       "      <th>number</th>\n",
       "      <th>Timings</th>\n",
       "    </tr>\n",
       "  </thead>\n",
       "  <tbody>\n",
       "    <tr>\n",
       "      <th>0</th>\n",
       "      <td>1</td>\n",
       "      <td>[{'driverId': 'hamilton', 'position': '1', 'ti...</td>\n",
       "    </tr>\n",
       "    <tr>\n",
       "      <th>1</th>\n",
       "      <td>2</td>\n",
       "      <td>[{'driverId': 'hamilton', 'position': '1', 'ti...</td>\n",
       "    </tr>\n",
       "    <tr>\n",
       "      <th>2</th>\n",
       "      <td>3</td>\n",
       "      <td>[{'driverId': 'hamilton', 'position': '13', 't...</td>\n",
       "    </tr>\n",
       "    <tr>\n",
       "      <th>3</th>\n",
       "      <td>4</td>\n",
       "      <td>[{'driverId': 'hamilton', 'position': '1', 'ti...</td>\n",
       "    </tr>\n",
       "    <tr>\n",
       "      <th>4</th>\n",
       "      <td>5</td>\n",
       "      <td>[{'driverId': 'hamilton', 'position': '14', 't...</td>\n",
       "    </tr>\n",
       "  </tbody>\n",
       "</table>\n",
       "</div>"
      ],
      "text/plain": [
       "  number                                            Timings\n",
       "0      1  [{'driverId': 'hamilton', 'position': '1', 'ti...\n",
       "1      2  [{'driverId': 'hamilton', 'position': '1', 'ti...\n",
       "2      3  [{'driverId': 'hamilton', 'position': '13', 't...\n",
       "3      4  [{'driverId': 'hamilton', 'position': '1', 'ti...\n",
       "4      5  [{'driverId': 'hamilton', 'position': '14', 't..."
      ]
     },
     "execution_count": 3,
     "metadata": {},
     "output_type": "execute_result"
    }
   ],
   "source": [
    "result.head()"
   ]
  },
  {
   "cell_type": "code",
   "execution_count": 4,
   "id": "6597eade",
   "metadata": {},
   "outputs": [
    {
     "name": "stdout",
     "output_type": "stream",
     "text": [
      "<class 'pandas.core.frame.DataFrame'>\n",
      "RangeIndex: 70 entries, 0 to 69\n",
      "Data columns (total 2 columns):\n",
      " #   Column   Non-Null Count  Dtype \n",
      "---  ------   --------------  ----- \n",
      " 0   number   70 non-null     object\n",
      " 1   Timings  70 non-null     object\n",
      "dtypes: object(2)\n",
      "memory usage: 1.2+ KB\n"
     ]
    }
   ],
   "source": [
    "result.info()"
   ]
  },
  {
   "cell_type": "markdown",
   "id": "316523ac",
   "metadata": {},
   "source": [
    "70 entries for 70 laps of the race.\n",
    "\n",
    "`number`:  lap number (1-70)\n",
    "`Timings`: list containing a dict (driverId, position, time)"
   ]
  },
  {
   "cell_type": "markdown",
   "id": "67d92146",
   "metadata": {},
   "source": [
    "## Data cleaning\n",
    "\n",
    "There's a couple necessary steps to get our data into a working format:\n",
    "- rename `number` column to `lap`\n",
    "- extract `driverId`, `position`, `time` from the dict inside of `Timings`\n",
    "- set dtypes of columns"
   ]
  },
  {
   "cell_type": "markdown",
   "id": "ebeeb139",
   "metadata": {},
   "source": [
    "Renaming `number` column"
   ]
  },
  {
   "cell_type": "code",
   "execution_count": 5,
   "id": "d1543635",
   "metadata": {},
   "outputs": [],
   "source": [
    "result = result.rename(columns={'number': 'lap'})"
   ]
  },
  {
   "cell_type": "markdown",
   "id": "7d7ae586",
   "metadata": {},
   "source": [
    "Extracting columns from `Timings`:"
   ]
  },
  {
   "cell_type": "code",
   "execution_count": 6,
   "id": "ee7f5712",
   "metadata": {},
   "outputs": [],
   "source": [
    "result[['Timings']] = pd.DataFrame(result.Timings.tolist(), index=result.index)\n",
    "result[['driverId','position','time']] = pd.DataFrame(result.Timings.tolist(), index=result.index)"
   ]
  },
  {
   "cell_type": "code",
   "execution_count": 7,
   "id": "d1a2cc26",
   "metadata": {},
   "outputs": [],
   "source": [
    "# drop Timings column once data is extracted\n",
    "result.drop(columns=['Timings'], axis=1, inplace=True)"
   ]
  },
  {
   "cell_type": "markdown",
   "id": "14679210",
   "metadata": {},
   "source": [
    "Set `lap` and `position` to int"
   ]
  },
  {
   "cell_type": "code",
   "execution_count": 8,
   "id": "9ef7abbb",
   "metadata": {},
   "outputs": [],
   "source": [
    "result = result.astype({\"lap\": int, \"position\": int})"
   ]
  },
  {
   "cell_type": "code",
   "execution_count": 9,
   "id": "66954fbc",
   "metadata": {},
   "outputs": [
    {
     "name": "stdout",
     "output_type": "stream",
     "text": [
      "<class 'pandas.core.frame.DataFrame'>\n",
      "RangeIndex: 70 entries, 0 to 69\n",
      "Data columns (total 4 columns):\n",
      " #   Column    Non-Null Count  Dtype \n",
      "---  ------    --------------  ----- \n",
      " 0   lap       70 non-null     int32 \n",
      " 1   driverId  70 non-null     object\n",
      " 2   position  70 non-null     int32 \n",
      " 3   time      70 non-null     object\n",
      "dtypes: int32(2), object(2)\n",
      "memory usage: 1.8+ KB\n"
     ]
    }
   ],
   "source": [
    "result.info()"
   ]
  },
  {
   "cell_type": "code",
   "execution_count": 10,
   "id": "c8c87f48",
   "metadata": {},
   "outputs": [
    {
     "data": {
      "text/html": [
       "<div>\n",
       "<style scoped>\n",
       "    .dataframe tbody tr th:only-of-type {\n",
       "        vertical-align: middle;\n",
       "    }\n",
       "\n",
       "    .dataframe tbody tr th {\n",
       "        vertical-align: top;\n",
       "    }\n",
       "\n",
       "    .dataframe thead th {\n",
       "        text-align: right;\n",
       "    }\n",
       "</style>\n",
       "<table border=\"1\" class=\"dataframe\">\n",
       "  <thead>\n",
       "    <tr style=\"text-align: right;\">\n",
       "      <th></th>\n",
       "      <th>lap</th>\n",
       "      <th>driverId</th>\n",
       "      <th>position</th>\n",
       "      <th>time</th>\n",
       "    </tr>\n",
       "  </thead>\n",
       "  <tbody>\n",
       "    <tr>\n",
       "      <th>0</th>\n",
       "      <td>1</td>\n",
       "      <td>hamilton</td>\n",
       "      <td>1</td>\n",
       "      <td>1:58.069</td>\n",
       "    </tr>\n",
       "    <tr>\n",
       "      <th>1</th>\n",
       "      <td>2</td>\n",
       "      <td>hamilton</td>\n",
       "      <td>1</td>\n",
       "      <td>2:49.020</td>\n",
       "    </tr>\n",
       "    <tr>\n",
       "      <th>2</th>\n",
       "      <td>3</td>\n",
       "      <td>hamilton</td>\n",
       "      <td>13</td>\n",
       "      <td>26:46.873</td>\n",
       "    </tr>\n",
       "    <tr>\n",
       "      <th>3</th>\n",
       "      <td>4</td>\n",
       "      <td>hamilton</td>\n",
       "      <td>1</td>\n",
       "      <td>1:49.712</td>\n",
       "    </tr>\n",
       "    <tr>\n",
       "      <th>4</th>\n",
       "      <td>5</td>\n",
       "      <td>hamilton</td>\n",
       "      <td>14</td>\n",
       "      <td>1:43.232</td>\n",
       "    </tr>\n",
       "  </tbody>\n",
       "</table>\n",
       "</div>"
      ],
      "text/plain": [
       "   lap  driverId  position       time\n",
       "0    1  hamilton         1   1:58.069\n",
       "1    2  hamilton         1   2:49.020\n",
       "2    3  hamilton        13  26:46.873\n",
       "3    4  hamilton         1   1:49.712\n",
       "4    5  hamilton        14   1:43.232"
      ]
     },
     "execution_count": 10,
     "metadata": {},
     "output_type": "execute_result"
    }
   ],
   "source": [
    "result.head()"
   ]
  },
  {
   "cell_type": "markdown",
   "id": "f213d339",
   "metadata": {},
   "source": [
    "Lap 3 has an outlier position (13), compared to the values before and after. It corresponds to the lap of the crash and red flag.\n",
    "\n",
    "Having checked the race replay, Hamilton doesn't drop out of p1 until lap 5, so we'll need to correct that."
   ]
  },
  {
   "cell_type": "code",
   "execution_count": 11,
   "id": "eaa42930",
   "metadata": {},
   "outputs": [],
   "source": [
    "result.loc[2, 'position'] = 1"
   ]
  },
  {
   "cell_type": "markdown",
   "id": "09357b9d",
   "metadata": {},
   "source": [
    "## Analysis\n",
    "\n",
    "**Q:** How many laps did hamilton spend in each position?"
   ]
  },
  {
   "cell_type": "code",
   "execution_count": 12,
   "id": "6e8588f6",
   "metadata": {},
   "outputs": [
    {
     "data": {
      "text/plain": [
       "5     25\n",
       "4     10\n",
       "13     6\n",
       "14     5\n",
       "1      4\n",
       "3      4\n",
       "7      4\n",
       "11     4\n",
       "8      3\n",
       "9      2\n",
       "6      1\n",
       "10     1\n",
       "12     1\n",
       "Name: position, dtype: int64"
      ]
     },
     "execution_count": 12,
     "metadata": {},
     "output_type": "execute_result"
    }
   ],
   "source": [
    "result['position'].value_counts(ascending=False)"
   ]
  },
  {
   "cell_type": "markdown",
   "id": "5ca3f20f",
   "metadata": {},
   "source": [
    "- 25 laps spent in p5 = 35.7% of race  \n",
    "- 35 laps in p4/p5 = 50% of race"
   ]
  },
  {
   "cell_type": "code",
   "execution_count": 13,
   "id": "165684a2",
   "metadata": {},
   "outputs": [
    {
     "data": {
      "image/png": "[encoded data removed]",
      "text/plain": [
       "<Figure size 1008x576 with 4 Axes>"
      ]
     },
     "metadata": {},
     "output_type": "display_data"
    }
   ],
   "source": [
    "# FiveThirtyEight style\n",
    "import matplotlib.style as style\n",
    "style.use('fivethirtyeight')\n",
    "\n",
    "# subplots\n",
    "plt.figure(figsize=(14, 8))\n",
    "ax1 = plt.subplot(2,3,1)\n",
    "ax2 = plt.subplot(2,3,2)\n",
    "ax3 = plt.subplot(2,3,3)\n",
    "ax4 = plt.subplot(2,1,2)\n",
    "axes = [ax1, ax2, ax3, ax4]\n",
    "\n",
    "# subplot modifications\n",
    "for ax in axes:\n",
    "    ax.invert_yaxis()\n",
    "    ax.set_ylim([15,0])\n",
    "    ax.set_yticks([14, 10, 5, 1])\n",
    "    \n",
    "    \n",
    "# Ax1: pit-stop\n",
    "ax1.plot(result['lap'][:9], result['position'][:9], color='#03BFB5')\n",
    "\n",
    "ax1.set_xticks([1, 2, 3, 4, 5, 6, 7, 8, 9])\n",
    "ax1.set_xticklabels(['', '2', '','4','','6','','8',''])\n",
    "\n",
    "ax1.text(3.5, -3, 'Pitstop', fontsize=18, weight='bold', color='#03BFB5')\n",
    "ax1.text(4.25, -1.35, 'Lap 4', alpha=0.3)\n",
    "\n",
    "\n",
    "# Ax2: Overtakes\n",
    "ax2.plot(result['lap'][8:32], result['position'][8:32], color='#03BFB5')\n",
    "\n",
    "ax2.set_xticks([9, 12, 16, 20, 24, 28, 32])  \n",
    "ax2.set_xticklabels(['9', '', '16', '', '24', '', '32'])\n",
    "\n",
    "ax2.text(16, -3, 'Overtakes', fontsize=18, weight='bold', color='#03BFB5')\n",
    "ax2.text(17.5, -1.35, 'P14 to P5', alpha=0.3)\n",
    "\n",
    "\n",
    "# Ax3: Alonso Defends\n",
    "ax3.plot(result['lap'][31:], result['position'][31:], color='#03BFB5')\n",
    "\n",
    "ax3.set_xticks([32, 39, 48, 56, 64, 70])\n",
    "ax3.text(38, -3, 'Alonso Defends', fontsize=18, weight='bold', color='#03BFB5')\n",
    "\n",
    "ax3.text(41, -1.35, '35 laps in P4/P5', alpha=0.3)\n",
    "\n",
    "# Ax4: Full race\n",
    "ax4.plot(result['lap'], result['position'], color='#03BFB5')\n",
    "\n",
    "# Title and subtitle\n",
    "ax1.text(6.5, -7, 'Hamilton spent 50% of his race in P4/P5', fontsize=24, weight='bold')\n",
    "ax1.text(8, -5.5, '2021 Hungarian Grand Prix: Hamilton\\'s position change by lap', fontsize=14)\n",
    "\n",
    "# Signature\n",
    "ax4.text(-5, 18, 'Author: Daara S.' + ' '*145 + 'Source: ergast.com',\n",
    "         color = '#f0f0f0', backgroundcolor = '#4d4d4d', size=14)\n",
    "\n",
    "plt.show()"
   ]
  }
 ],
 "metadata": {
  "kernelspec": {
   "display_name": "Python 3",
   "language": "python",
   "name": "python3"
  },
  "language_info": {
   "codemirror_mode": {
    "name": "ipython",
    "version": 3
   },
   "file_extension": ".py",
   "mimetype": "text/x-python",
   "name": "python",
   "nbconvert_exporter": "python",
   "pygments_lexer": "ipython3",
   "version": "3.8.8"
  }
 },
 "nbformat": 4,
 "nbformat_minor": 5
}
