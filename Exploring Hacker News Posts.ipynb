{
 "cells": [
  {
   "cell_type": "markdown",
   "metadata": {
    "collapsed": true
   },
   "source": [
    "# Exploring Hacker News Posts\n",
    ">Hacker News is a site started by the startup incubator Y Combinator, where user-submitted stories (known as \"posts\") are voted and commented upon, similar to reddit. Hacker News is extremely popular in technology and startup circles, and posts that make it to the top of Hacker News' listings can get hundreds of thousands of visitors as a result.\n",
    "\n",
    "Dataset found here: [Hacker News Posts](https://www.kaggle.com/hacker-news/hacker-news-posts)\n",
    "\n",
    "The goal is to explore posts that begin with `Ask HN` or `Show HN` to determine the following:\n",
    "- Do `Ask HN` or `Show HN` receive more comments on average?\n",
    "- Do posts created at a certain time receive more comments on average?"
   ]
  },
  {
   "cell_type": "code",
   "execution_count": 3,
   "metadata": {},
   "outputs": [
    {
     "data": {
      "text/plain": [
       "[['id', 'title', 'url', 'num_points', 'num_comments', 'author', 'created_at'],\n",
       " ['12224879',\n",
       "  'Interactive Dynamic Video',\n",
       "  'http://www.interactivedynamicvideo.com/',\n",
       "  '386',\n",
       "  '52',\n",
       "  'ne0phyte',\n",
       "  '8/4/2016 11:52'],\n",
       " ['10975351',\n",
       "  'How to Use Open Source and Shut the Fuck Up at the Same Time',\n",
       "  'http://hueniverse.com/2016/01/26/how-to-use-open-source-and-shut-the-fuck-up-at-the-same-time/',\n",
       "  '39',\n",
       "  '10',\n",
       "  'josep2',\n",
       "  '1/26/2016 19:30']]"
      ]
     },
     "execution_count": 3,
     "metadata": {},
     "output_type": "execute_result"
    }
   ],
   "source": [
    "from csv import reader\n",
    "\n",
    "# open HN file\n",
    "with open(\"hacker_news.csv\") as f:\n",
    "    hn = list(reader(f))\n",
    "\n",
    "hn[:3]"
   ]
  },
  {
   "cell_type": "markdown",
   "metadata": {},
   "source": [
    "So we have the following columns:\n",
    "- title: title of the post (self explanatory)\n",
    "- url: the url of the item being linked to\n",
    "- num_points: the number of upvotes the post received\n",
    "- num_comments: the number of comments the post received\n",
    "- author: the name of the account that made the post\n",
    "- created_at: the date and time the post was made (the time zone is Eastern Time in the US)"
   ]
  },
  {
   "cell_type": "code",
   "execution_count": 4,
   "metadata": {},
   "outputs": [],
   "source": [
    "# remove column headers\n",
    "headers = hn[0]\n",
    "hn = hn[1:]"
   ]
  },
  {
   "cell_type": "markdown",
   "metadata": {},
   "source": [
    "Let's split our dataset into posts with `ask hn`, `show hn`, and `other posts`"
   ]
  },
  {
   "cell_type": "code",
   "execution_count": 5,
   "metadata": {},
   "outputs": [
    {
     "name": "stdout",
     "output_type": "stream",
     "text": [
      "Number of ask posts: 1,744\n",
      "Number of show posts: 1,162\n",
      "Number of other posts: 17,194\n"
     ]
    }
   ],
   "source": [
    "ask_posts = []\n",
    "show_posts = []\n",
    "other_posts = []\n",
    "\n",
    "# split ask, show, and other posts into separate lists\n",
    "for row in hn:\n",
    "    title = row[1].lower()\n",
    "    \n",
    "    if title.startswith(\"ask hn\"):\n",
    "        ask_posts.append(row)\n",
    "        \n",
    "    elif title.startswith(\"show hn\"):\n",
    "        show_posts.append(row)\n",
    "        \n",
    "    else:\n",
    "        other_posts.append(row)\n",
    "\n",
    "print(\"Number of ask posts: {:,}\".format(len(ask_posts)))\n",
    "print(\"Number of show posts: {:,}\".format(len(show_posts)))\n",
    "print(\"Number of other posts: {:,}\".format(len(other_posts)))"
   ]
  },
  {
   "cell_type": "markdown",
   "metadata": {},
   "source": [
    "## Part 1: exploring comments\n",
    "\n",
    "\n",
    "### Goals\n",
    "- Do `Ask HN` or `Show HN` receive more comments on average?\n",
    "- Do posts created at a certain time receive more comments on average?\n",
    "\n",
    "\n",
    "Next we'll get the average number of comments for both ask and show posts"
   ]
  },
  {
   "cell_type": "code",
   "execution_count": 19,
   "metadata": {},
   "outputs": [],
   "source": [
    "# return average of a given column's elements\n",
    "def col_average(posts, column):\n",
    "    total_elements = 0\n",
    "    for row in posts:\n",
    "        \n",
    "        n_elements = int(row[column])\n",
    "        total_elements += n_elements\n",
    "    \n",
    "    return total_elements / len(posts)"
   ]
  },
  {
   "cell_type": "code",
   "execution_count": 20,
   "metadata": {},
   "outputs": [
    {
     "name": "stdout",
     "output_type": "stream",
     "text": [
      "Average number of comments on ask posts: 14.04\n",
      "Average number of comments on show posts: 10.32\n"
     ]
    }
   ],
   "source": [
    "# average number of comments in ask posts\n",
    "avg_ask_comments = col_average(ask_posts, 4)\n",
    "\n",
    "print(\"Average number of comments on ask posts: {:,.2f}\".format(\n",
    "    avg_ask_comments))\n",
    "\n",
    "\n",
    "# average number of comments in show posts\n",
    "avg_show_comments = col_average(show_posts, 4)\n",
    "\n",
    "print(\"Average number of comments on show posts: {:,.2f}\".format(\n",
    "    avg_show_comments))"
   ]
  },
  {
   "cell_type": "markdown",
   "metadata": {},
   "source": [
    "Ask posts get more comments on average since people will be responding to their question(s).\n",
    "\n",
    "Looking in more detail into ask posts, we can calculate the number of posts per hour to see when's best to post if we want the most people responding."
   ]
  },
  {
   "cell_type": "code",
   "execution_count": 31,
   "metadata": {},
   "outputs": [],
   "source": [
    "import datetime as dt\n",
    "\n",
    "# return list of average of elements in column per hour\n",
    "def average_perhour(posts, column):\n",
    "    counts_by_hour = {}\n",
    "    elements_by_hour = {}\n",
    "    \n",
    "    for row in posts:\n",
    "        \n",
    "        created_dt = dt.datetime.strptime(row[6], \"%m/%d/%Y %H:%M\") # format '8/4/2016 11:52'\n",
    "        hour = created_dt.strftime(\"%H\") # could chain to above\n",
    "        n_elements = int(row[column])\n",
    "        \n",
    "        if hour not in counts_by_hour:\n",
    "            counts_by_hour[hour] = 1\n",
    "            elements_by_hour[hour] = n_elements\n",
    "        \n",
    "        else:            \n",
    "            counts_by_hour[hour] += 1\n",
    "            elements_by_hour[hour] += n_elements\n",
    "    \n",
    "    avg_by_hour = []\n",
    "    for hour in counts_by_hour:\n",
    "        avg_by_hour.append([hour, elements_by_hour[hour]/counts_by_hour[hour]])\n",
    "    \n",
    "    return avg_by_hour"
   ]
  },
  {
   "cell_type": "code",
   "execution_count": 32,
   "metadata": {},
   "outputs": [
    {
     "data": {
      "text/plain": [
       "[['09', 5.5777777777777775],\n",
       " ['13', 14.741176470588234],\n",
       " ['10', 13.440677966101696],\n",
       " ['14', 13.233644859813085],\n",
       " ['16', 16.796296296296298],\n",
       " ['23', 7.985294117647059],\n",
       " ['12', 9.41095890410959],\n",
       " ['17', 11.46],\n",
       " ['15', 38.5948275862069],\n",
       " ['21', 16.009174311926607],\n",
       " ['20', 21.525],\n",
       " ['02', 23.810344827586206],\n",
       " ['18', 13.20183486238532],\n",
       " ['03', 7.796296296296297],\n",
       " ['05', 10.08695652173913],\n",
       " ['19', 10.8],\n",
       " ['01', 11.383333333333333],\n",
       " ['22', 6.746478873239437],\n",
       " ['08', 10.25],\n",
       " ['04', 7.170212765957447],\n",
       " ['00', 8.127272727272727],\n",
       " ['06', 9.022727272727273],\n",
       " ['07', 7.852941176470588],\n",
       " ['11', 11.051724137931034]]"
      ]
     },
     "execution_count": 32,
     "metadata": {},
     "output_type": "execute_result"
    }
   ],
   "source": [
    "# average ask posts by hour\n",
    "avg_by_hour = average_perhour(ask_posts, 4)\n",
    "avg_by_hour"
   ]
  },
  {
   "cell_type": "markdown",
   "metadata": {},
   "source": [
    "If we swap the columns, we can order our table to show the max values first:"
   ]
  },
  {
   "cell_type": "code",
   "execution_count": 33,
   "metadata": {},
   "outputs": [],
   "source": [
    "def swap_list(unswapped):\n",
    "    swapped = []\n",
    "    \n",
    "    for row in unswapped:\n",
    "        swapped.append([row[1], row[0]])\n",
    "        \n",
    "    return swapped"
   ]
  },
  {
   "cell_type": "code",
   "execution_count": 34,
   "metadata": {},
   "outputs": [
    {
     "data": {
      "text/plain": [
       "[[5.5777777777777775, '09'],\n",
       " [14.741176470588234, '13'],\n",
       " [13.440677966101696, '10'],\n",
       " [13.233644859813085, '14'],\n",
       " [16.796296296296298, '16'],\n",
       " [7.985294117647059, '23'],\n",
       " [9.41095890410959, '12'],\n",
       " [11.46, '17'],\n",
       " [38.5948275862069, '15'],\n",
       " [16.009174311926607, '21'],\n",
       " [21.525, '20'],\n",
       " [23.810344827586206, '02'],\n",
       " [13.20183486238532, '18'],\n",
       " [7.796296296296297, '03'],\n",
       " [10.08695652173913, '05'],\n",
       " [10.8, '19'],\n",
       " [11.383333333333333, '01'],\n",
       " [6.746478873239437, '22'],\n",
       " [10.25, '08'],\n",
       " [7.170212765957447, '04'],\n",
       " [8.127272727272727, '00'],\n",
       " [9.022727272727273, '06'],\n",
       " [7.852941176470588, '07'],\n",
       " [11.051724137931034, '11']]"
      ]
     },
     "execution_count": 34,
     "metadata": {},
     "output_type": "execute_result"
    }
   ],
   "source": [
    "swap_avg_by_hour = swap_list(avg_by_hour)\n",
    "\n",
    "swap_avg_by_hour"
   ]
  },
  {
   "cell_type": "code",
   "execution_count": 12,
   "metadata": {},
   "outputs": [
    {
     "name": "stdout",
     "output_type": "stream",
     "text": [
      "Top 5 Hours for Ask Posts Comments\n",
      "15:00: 38.59 average comments per post\n",
      "02:00: 23.81 average comments per post\n",
      "20:00: 21.52 average comments per post\n",
      "16:00: 16.80 average comments per post\n",
      "21:00: 16.01 average comments per post\n"
     ]
    }
   ],
   "source": [
    "sorted_swap = sorted(swap_avg_by_hour, reverse=True)\n",
    "\n",
    "print(\"Top 5 Hours for Ask Posts Comments\")\n",
    "for avg, hr in sorted_swap[:5]:\n",
    "    \n",
    "    print(\"{}: {:.2f} average comments per post\".format(\n",
    "    dt.datetime.strptime(hr, \"%H\").strftime(\"%H:%M\"),\n",
    "    avg))"
   ]
  },
  {
   "cell_type": "markdown",
   "metadata": {},
   "source": [
    "The post active commenting period is between 3pm and 4pm Eastern time.\n",
    "\n",
    "The most active times to post an `ask post` is from 15:00-16:00, 02:00-03:00, and 20:00-21:00 (EST)"
   ]
  },
  {
   "cell_type": "code",
   "execution_count": 42,
   "metadata": {},
   "outputs": [
    {
     "name": "stdout",
     "output_type": "stream",
     "text": [
      "Top 5 Hours for Show Posts Comments\n",
      "18:00: 15.77 average comments per post\n",
      "00:00: 15.71 average comments per post\n",
      "14:00: 13.44 average comments per post\n",
      "23:00: 12.42 average comments per post\n",
      "22:00: 12.39 average comments per post\n"
     ]
    }
   ],
   "source": [
    "show_comments_by_hour = average_perhour(show_posts, 4)\n",
    "\n",
    "swap_show_comments_by_hour = swap_list(show_comments_by_hour)\n",
    "sorted_swap_show = sorted(swap_show_comments_by_hour, reverse=True)\n",
    "\n",
    "print(\"Top 5 Hours for Show Posts Comments\")\n",
    "for avg, hr in sorted_swap_show[:5]:\n",
    "    \n",
    "    print(\"{}: {:.2f} average comments per post\".format(\n",
    "    dt.datetime.strptime(hr, \"%H\").strftime(\"%H:%M\"),\n",
    "    avg))"
   ]
  },
  {
   "cell_type": "markdown",
   "metadata": {},
   "source": [
    "Show points in comparison have a more uniform distribution of comments per post, with ~15 average comments per post from 18:00 to 00:00 (EST)"
   ]
  },
  {
   "cell_type": "markdown",
   "metadata": {},
   "source": [
    "## Part 2: exploring points\n",
    "\n",
    "Let's move onto points and see what the data shows:\n",
    "- Do show or ask posts receive more points on average\n",
    "- Are posts created at a certain time more likely to receive more points\n",
    "\n",
    "Compare your results to the average number of comments and points other posts receive.\n",
    "Use Dataquest's data science project style guide to format your project."
   ]
  },
  {
   "cell_type": "code",
   "execution_count": 25,
   "metadata": {},
   "outputs": [
    {
     "name": "stdout",
     "output_type": "stream",
     "text": [
      "Average number of points on ask posts: 15.06\n",
      "Average number of points on show posts: 27.56\n"
     ]
    }
   ],
   "source": [
    "# average points for ask posts\n",
    "avg_ask_points = col_average(ask_posts, 3)\n",
    "\n",
    "print(\"Average number of points on ask posts: {:,.2f}\".format(\n",
    "    avg_ask_points))\n",
    "\n",
    "\n",
    "# average points for show posts\n",
    "avg_show_points = col_average(show_posts, 3)\n",
    "print(\"Average number of points on show posts: {:,.2f}\".format(\n",
    "    avg_show_points))"
   ]
  },
  {
   "cell_type": "markdown",
   "metadata": {},
   "source": [
    "As expected, show posts receive more points as it's people showcasing something.\n",
    "\n",
    "Let's compare the average of points by hour for both:"
   ]
  },
  {
   "cell_type": "code",
   "execution_count": 41,
   "metadata": {},
   "outputs": [
    {
     "name": "stdout",
     "output_type": "stream",
     "text": [
      "Top 5 Hours for Ask Posts Points\n",
      "15:00: 29.99 average points per post\n",
      "13:00: 24.26 average points per post\n",
      "16:00: 23.35 average points per post\n",
      "17:00: 19.41 average points per post\n",
      "10:00: 18.68 average points per post\n",
      "\n",
      "\n",
      "Top 5 Hours for Show Posts Points\n",
      "23:00: 42.39 average points per post\n",
      "12:00: 41.69 average points per post\n",
      "22:00: 40.35 average points per post\n",
      "00:00: 37.84 average points per post\n",
      "18:00: 36.31 average points per post\n"
     ]
    }
   ],
   "source": [
    "ask_points_by_hour = average_perhour(ask_posts, 3)\n",
    "\n",
    "swap_ask_points_by_hour = swap_list(ask_points_by_hour)\n",
    "sorted_swap_ask = sorted(swap_ask_points_by_hour, reverse=True)\n",
    "\n",
    "print(\"Top 5 Hours for Ask Posts Points\")\n",
    "for avg, hr in sorted_swap_ask[:5]:\n",
    "    \n",
    "    print(\"{}: {:.2f} average points per post\".format(\n",
    "    dt.datetime.strptime(hr, \"%H\").strftime(\"%H:%M\"),\n",
    "    avg))\n",
    "print(\"\\n\")\n",
    "\n",
    "show_points_by_hour = average_perhour(show_posts, 3)\n",
    "\n",
    "swap_show_points_by_hour = swap_list(show_points_by_hour)\n",
    "sorted_swap_show = sorted(swap_show_points_by_hour, reverse=True)\n",
    "\n",
    "print(\"Top 5 Hours for Show Posts Points\")\n",
    "for avg, hr in sorted_swap_show[:5]:\n",
    "    \n",
    "    print(\"{}: {:.2f} average points per post\".format(\n",
    "    dt.datetime.strptime(hr, \"%H\").strftime(\"%H:%M\"),\n",
    "    avg))"
   ]
  },
  {
   "cell_type": "markdown",
   "metadata": {},
   "source": [
    "Comparing what we know of most active times for Ask posts and Show posts:\n",
    "\n",
    "Ask posts are most active from 15:00-16:00, which matches the 1st and 3rd on the list of top hours for points. Coming in 2nd at 13:00 could suggest lunchtime when people may be scrolling through Hacker News but not responding.\n",
    "\n",
    "Show posts have a much higher average of points per post. The best time to post is from 22:00-00:00, or 12:00-13:00."
   ]
  }
 ],
 "metadata": {
  "kernelspec": {
   "display_name": "Python 3",
   "language": "python",
   "name": "python3"
  },
  "language_info": {
   "codemirror_mode": {
    "name": "ipython",
    "version": 3
   },
   "file_extension": ".py",
   "mimetype": "text/x-python",
   "name": "python",
   "nbconvert_exporter": "python",
   "pygments_lexer": "ipython3",
   "version": "3.8.8"
  }
 },
 "nbformat": 4,
 "nbformat_minor": 2
}
